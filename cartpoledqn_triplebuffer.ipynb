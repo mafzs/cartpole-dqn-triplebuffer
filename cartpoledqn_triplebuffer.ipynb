{
  "nbformat": 4,
  "nbformat_minor": 0,
  "metadata": {
    "colab": {
      "name": "Copy of cartpole_dqn_triplebuffer.ipynb",
      "provenance": []
    },
    "kernelspec": {
      "name": "python3",
      "display_name": "Python 3"
    },
    "language_info": {
      "name": "python"
    }
  },
  "cells": [
    {
      "cell_type": "code",
      "source": [
        "!pip install torch_nightly -f https://download.pytorch.org/whl/nightly/cpu/torch_nightly.html"
      ],
      "metadata": {
        "colab": {
          "base_uri": "https://localhost:8080/"
        },
        "id": "IryPi-3tcy2k",
        "outputId": "de1debcb-1dc5-4b4e-a57d-2087ac646dd9"
      },
      "execution_count": null,
      "outputs": [
        {
          "output_type": "stream",
          "name": "stdout",
          "text": [
            "Looking in links: https://download.pytorch.org/whl/nightly/cpu/torch_nightly.html\n",
            "Requirement already satisfied: torch_nightly in /usr/local/lib/python3.7/dist-packages (1.2.0.dev20190805+cpu)\n"
          ]
        }
      ]
    },
    {
      "cell_type": "code",
      "source": [
        "!pip install -q gym ipdb"
      ],
      "metadata": {
        "id": "j3sn-57dc_S4",
        "colab": {
          "base_uri": "https://localhost:8080/"
        },
        "outputId": "81ff1899-d334-4fa3-ae6b-afc4640a7fba"
      },
      "execution_count": null,
      "outputs": [
        {
          "output_type": "stream",
          "name": "stdout",
          "text": [
            "\u001b[K     |████████████████████████████████| 793 kB 7.7 MB/s \n",
            "\u001b[K     |████████████████████████████████| 380 kB 62.5 MB/s \n",
            "\u001b[?25h  Building wheel for ipdb (setup.py) ... \u001b[?25l\u001b[?25hdone\n",
            "\u001b[31mERROR: pip's dependency resolver does not currently take into account all the packages that are installed. This behaviour is the source of the following dependency conflicts.\n",
            "jupyter-console 5.2.0 requires prompt-toolkit<2.0.0,>=1.0.0, but you have prompt-toolkit 3.0.28 which is incompatible.\n",
            "google-colab 1.0.0 requires ipython~=5.5.0, but you have ipython 7.32.0 which is incompatible.\u001b[0m\n"
          ]
        }
      ]
    },
    {
      "cell_type": "code",
      "source": [
        "from collections import deque\n",
        "import gym, random, math, ipdb\n",
        "from tqdm import trange\n",
        "import numpy as np\n",
        "import torch\n",
        "import torch.nn as nn\n",
        "import torch.optim as optim\n"
      ],
      "metadata": {
        "id": "hezesyBsdBRI"
      },
      "execution_count": null,
      "outputs": []
    },
    {
      "cell_type": "code",
      "source": [
        "gym.logger.set_level(40)"
      ],
      "metadata": {
        "id": "Ix6xFP3Fdqnw"
      },
      "execution_count": null,
      "outputs": []
    },
    {
      "cell_type": "code",
      "source": [
        "import matplotlib.pyplot as plt\n",
        "%matplotlib inline"
      ],
      "metadata": {
        "id": "q-WNF-1kdyzZ"
      },
      "execution_count": null,
      "outputs": []
    },
    {
      "cell_type": "code",
      "source": [
        "class deep_qnet(nn.Module):\n",
        "  # in this part we define some features that describes the arcitecture of DQN\n",
        "\n",
        "  def __init__(self,input_dim=4,output_dim=2,hidden_layer=64):\n",
        "    \n",
        "\n",
        "    super(deep_qnet, self).__init__()\n",
        "\n",
        "    self.input_dim=input_dim\n",
        "    self.output_dim=output_dim\n",
        "    self.hidden=hidden_layer\n",
        "    self.features=nn.Sequential(\n",
        "        nn.Linear(self.input_dim,self.hidden),\n",
        "        nn.ReLU(),\n",
        "        nn.Linear(self.hidden,self.hidden),\n",
        "        nn.ReLU()\n",
        "    )\n",
        "    self.adv=nn.Linear(self.hidden,self.output_dim)\n",
        "    self.val = nn.Linear(self.hidden, 1)\n",
        "  def forward(self,x):\n",
        "    x=self.features(x)\n",
        "    adv = self.adv(x)\n",
        "    val = self.val(x)\n",
        "    return val + adv - adv.mean(1, keepdim=True)"
      ],
      "metadata": {
        "id": "usSmW6z_eBS5"
      },
      "execution_count": null,
      "outputs": []
    },
    {
      "cell_type": "code",
      "source": [
        "class agent:\n",
        "  def __init__(self,output_dim = 2,lr = 1e-3,batch_size = 32,gamma=0.99,epsilon=0.15):\n",
        "    #we initialize our DQN\n",
        "    self.output_dim=output_dim\n",
        "    self.lr=lr\n",
        "    self.batch_size=batch_size\n",
        "    self.gamma=gamma\n",
        "    self.epsilon=epsilon\n",
        "    self.on_net=deep_qnet()\n",
        "    self.on_net.train()\n",
        "    self.targ_net=deep_qnet()\n",
        "    self.update_targ_net()\n",
        "    for param in self.targ_net.parameters(): param.requires_grad = False\n",
        "    self.optimiser=optim.Adam(self.on_net.parameters(), lr=self.lr)\n",
        "  def make_preact(self,state):\n",
        "    # in this part of code we make an action prediction with DQN\n",
        "    state = torch.FloatTensor(state).unsqueeze(0)\n",
        "    with torch.no_grad():\n",
        "      return self.on_net(state).argmax(1).item()\n",
        "  def make_preact_reverse(self,state):\n",
        "    #in this part of code we make an action prediction with DQN that has the lowest value\n",
        "    state = torch.FloatTensor(state).unsqueeze(0)\n",
        "    with torch.no_grad():\n",
        "      return self.on_net(state).argmin(1).item()\n",
        "  def make_final_act(self,state):\n",
        "    # in this function we return act based on e greedy method\n",
        "    if random.random()<self.epsilon:\n",
        "      return random.randrange(self.output_dim)\n",
        "    else:\n",
        "      return self.make_preact(state)\n",
        "  def make_final_act_reverse(self,state):\n",
        "    # in this function we return act based on e greedy method in reverse method\n",
        "    if random.random()<self.epsilon:\n",
        "      return random.randrange(self.output_dim)\n",
        "    else:\n",
        "      return self.make_preact_reverse(state)\n",
        "  def batch_samp(self,buffer):\n",
        "    s, a, r, ns, t = zip(*random.sample(buffer, self.batch_size))\n",
        "    f, l = torch.FloatTensor, torch.LongTensor\n",
        "    return f(s), l(a), f(r), f(ns), f(t)\n",
        "  def train_iter(self, buffer):\n",
        "    state, action, reward, next_state, terminal = self.batch_samp(buffer)\n",
        "    q_value = self.on_net(state)[range(self.batch_size), action]\n",
        "    with torch.no_grad():\n",
        "      next_state_action = self.on_net(next_state).max(1)[1] # online_net to get action for next_state\n",
        "      next_qv = self.targ_net(next_state)[range(self.batch_size), next_state_action] # target_net to get Q\n",
        "      target_qv = reward + self.gamma * (1 - terminal) * next_qv\n",
        "    loss = (q_value - target_qv).pow(2).mean()\n",
        "    self.optimiser.zero_grad()\n",
        "    loss.backward()\n",
        "    self.optimiser.step()\n",
        "    return loss.item()\n",
        "  def update_targ_net(self):\n",
        "    self.targ_net.load_state_dict(self.on_net.state_dict())\n",
        "    \n",
        "    \n",
        "  \n",
        "\n",
        "\n",
        "    \n",
        "\n"
      ],
      "metadata": {
        "id": "_NU3tBO6gI-O"
      },
      "execution_count": null,
      "outputs": []
    },
    {
      "cell_type": "code",
      "source": [
        "normal_buffer=deque(maxlen=5000)\n",
        "reverse_buffer=deque(maxlen=5000)\n",
        "noisy_buffer=deque(maxlen=5000)\n",
        "\n",
        "env = gym.make(\"CartPole-v0\")\n",
        "agent = agent()"
      ],
      "metadata": {
        "id": "z5Wpz6Tgl5_3"
      },
      "execution_count": null,
      "outputs": []
    },
    {
      "cell_type": "markdown",
      "source": [
        "Epsilon=0.15"
      ],
      "metadata": {
        "id": "kQatLh7B5Nd_"
      }
    },
    {
      "cell_type": "code",
      "source": [
        "rewards, loss = [], []\n",
        "episode_reward = 0\n",
        "state = env.reset()\n",
        "\n",
        "for i in trange(15000):\n",
        "  eps = .01 + .99 * math.exp(-i / 500) # close to .01 at 3500\n",
        "  if i <=10000:\n",
        "    action = agent.make_final_act(state)\n",
        "    next_state, reward, done, _ = env.step(action)\n",
        "    normal_buffer.append((state, action, reward, next_state, done))\n",
        "    #make reverse action\n",
        "    action_reverse = agent.make_final_act_reverse(state)\n",
        "    next_state_reverse, reward_reverse, done_reverse, _ = env.step(action_reverse)\n",
        "    reverse_buffer.append((state, action_reverse, reward_reverse, next_state_reverse, done_reverse))\n",
        "    #make noisy action\n",
        "    noise = np.random.normal(0, .1, state.shape)\n",
        "    noisy_state=noise+state\n",
        "    action_noisy = agent.make_final_act(noisy_state)\n",
        "    next_state_noisy, reward_noisy, done_noisy, _ = env.step(action)\n",
        "    noisy_buffer.append((state, action_noisy, reward_noisy, next_state_noisy, done_noisy))\n",
        "    \n",
        "    state = next_state\n",
        "    episode_reward += reward\n",
        "    \n",
        "    if done:\n",
        "      state = env.reset()\n",
        "      rewards.append(episode_reward)\n",
        "      episode_reward = 0\n",
        "      \n",
        "    if i > 100:\n",
        "      a=random.random()\n",
        "      if a<0.33:\n",
        "        loss.append(agent.train_iter(normal_buffer))\n",
        "      if a>=0.33 and a<0.66:\n",
        "        loss.append(agent.train_iter(reverse_buffer))\n",
        "      if a>=0.66:\n",
        "        loss.append(agent.train_iter(noisy_buffer))\n",
        "\n",
        "\n",
        "    \n",
        "    if i > 100 and i % 100 == 0:\n",
        "      agent.update_targ_net()\n",
        "  else:\n",
        "    action = agent.make_final_act(state)\n",
        "    next_state, reward, done, _ = env.step(action)\n",
        "    normal_buffer.append((state, action, reward, next_state, done))\n",
        "    state = next_state\n",
        "    episode_reward += reward\n",
        "    \n",
        "    if done:\n",
        "      state = env.reset()\n",
        "      rewards.append(episode_reward)\n",
        "      episode_reward = 0\n",
        "      \n",
        "    if i > 100:\n",
        "        loss.append(agent.train_iter(normal_buffer))\n",
        " \n",
        "\n",
        "\n",
        "    \n",
        "    if i > 100 and i % 100 == 0:\n",
        "      agent.update_targ_net()\n",
        "\n",
        "\n",
        "plt.figure(figsize=(20,5))\n",
        "plt.subplot(131)\n",
        "plt.plot(rewards)\n",
        "plt.subplot(132)\n",
        "plt.plot(loss)"
      ],
      "metadata": {
        "colab": {
          "base_uri": "https://localhost:8080/",
          "height": 356
        },
        "id": "EEdciMoDnMpV",
        "outputId": "ee15c05d-839f-4bba-f71c-2f38e0b6548a"
      },
      "execution_count": null,
      "outputs": [
        {
          "output_type": "stream",
          "name": "stderr",
          "text": [
            "100%|██████████| 15000/15000 [00:30<00:00, 494.89it/s]\n"
          ]
        },
        {
          "output_type": "execute_result",
          "data": {
            "text/plain": [
              "[<matplotlib.lines.Line2D at 0x7ff02a03f390>]"
            ]
          },
          "metadata": {},
          "execution_count": 34
        },
        {
          "output_type": "display_data",
          "data": {
            "text/plain": [
              "<Figure size 1440x360 with 2 Axes>"
            ],
            "image/png": "[encoded data removed]"
          },
          "metadata": {
            "needs_background": "light"
          }
        }
      ]
    },
    {
      "cell_type": "markdown",
      "source": [
        "Epsilon=0.3"
      ],
      "metadata": {
        "id": "pBe0a8H85KeX"
      }
    }
  ]
}